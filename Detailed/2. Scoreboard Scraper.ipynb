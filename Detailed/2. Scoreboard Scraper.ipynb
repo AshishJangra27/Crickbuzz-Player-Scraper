{
 "cells": [
  {
   "cell_type": "code",
   "execution_count": 9,
   "id": "580d17aa",
   "metadata": {
    "scrolled": true
   },
   "outputs": [],
   "source": [
    "import requests\n",
    "import numpy as np\n",
    "import pandas as pd\n",
    "from tqdm import tqdm\n",
    "from bs4 import BeautifulSoup\n",
    "\n",
    "links = list(pd.read_csv('cricket.csv')['link'].values)"
   ]
  },
  {
   "cell_type": "markdown",
   "id": "9d1e0478",
   "metadata": {},
   "source": [
    "### 1. Defining Scraper Functions"
   ]
  },
  {
   "cell_type": "code",
   "execution_count": 10,
   "id": "8fb851b7",
   "metadata": {},
   "outputs": [],
   "source": [
    "def get_col_names(table):                                     # Get Column Names from the Table\n",
    "    return [_.text.strip() for _ in table.find_all('th')]\n",
    "\n",
    "def get_data(table):                                          # Get Table Data\n",
    "    return [_.text.strip() for _ in table.find_all('td')]\n",
    "\n",
    "def get_rows(table):                                          # Get number of rows from the Table\n",
    "    return len(table.find('tbody').find_all('tr'))\n",
    "    \n",
    "def get_cols(table):                                          # Get number of columns from the Table\n",
    "    return len(get_col_names(table))\n",
    "\n",
    "def create_df(table):                                         # Create the DataFrame\n",
    "    data   = np.reshape(get_data(table), (get_rows(table), get_cols(table)))\n",
    "    return pd.DataFrame(data, columns = get_col_names(table))    "
   ]
  },
  {
   "cell_type": "markdown",
   "id": "e11054f3",
   "metadata": {},
   "source": [
    "### 2. Final Scraper"
   ]
  },
  {
   "cell_type": "code",
   "execution_count": 11,
   "id": "b04d20b3",
   "metadata": {},
   "outputs": [
    {
     "name": "stderr",
     "output_type": "stream",
     "text": [
      "100%|█████████████████████████████████████████| 452/452 [05:53<00:00,  1.28it/s]\n"
     ]
    }
   ],
   "source": [
    "bat_paths = []\n",
    "bow_paths = []\n",
    "\n",
    "for link in tqdm(links):                                  # Going through each player data one by one\n",
    "    \n",
    "    try:\n",
    "        soup = BeautifulSoup(requests.get(link).content,'lxml')\n",
    "\n",
    "        bat_table = soup.find_all('table', class_ = 'table cb-col-100 cb-plyr-thead')[0]\n",
    "        bow_table = soup.find_all('table', class_ = 'table cb-col-100 cb-plyr-thead')[1]\n",
    "\n",
    "        df_bat = create_df(bat_table)\n",
    "        df_bow = create_df(bow_table)\n",
    "\n",
    "        player_id = link.split('/')[-2]\n",
    "\n",
    "        bat_path = 'Scores/bat_' + player_id + '.csv'\n",
    "        bow_path = 'Scores/bow_' + player_id + '.csv'\n",
    "\n",
    "        df_bat.to_csv(bat_path, index = False)\n",
    "        df_bow.to_csv(bow_path, index = False)\n",
    "\n",
    "        bat_paths.append(bat_path)\n",
    "        bow_paths.append(bow_path)\n",
    "    \n",
    "    except:\n",
    "        bat_paths.append(np.nan)\n",
    "        bow_paths.append(np.nan)"
   ]
  },
  {
   "cell_type": "markdown",
   "id": "40f6c5f6",
   "metadata": {},
   "source": [
    "### 3. Merging Scraped DataFrame Paths with Cricket.csv"
   ]
  },
  {
   "cell_type": "code",
   "execution_count": 23,
   "id": "a7233633",
   "metadata": {},
   "outputs": [],
   "source": [
    "df = pd.read_csv('cricket.csv')\n",
    "\n",
    "df['bat_path'] = bat_paths\n",
    "df['bow_path'] = bow_paths\n",
    "\n",
    "df = df.dropna()\n",
    "\n",
    "df.to_csv('players_record.csv', index = False)"
   ]
  }
 ],
 "metadata": {
  "kernelspec": {
   "display_name": "Python 3 (ipykernel)",
   "language": "python",
   "name": "python3"
  },
  "language_info": {
   "codemirror_mode": {
    "name": "ipython",
    "version": 3
   },
   "file_extension": ".py",
   "mimetype": "text/x-python",
   "name": "python",
   "nbconvert_exporter": "python",
   "pygments_lexer": "ipython3",
   "version": "3.9.7"
  }
 },
 "nbformat": 4,
 "nbformat_minor": 5
}
