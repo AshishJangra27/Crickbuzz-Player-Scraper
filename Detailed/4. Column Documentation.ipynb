{
 "cells": [
  {
   "cell_type": "code",
   "execution_count": 52,
   "id": "9a806633",
   "metadata": {},
   "outputs": [
    {
     "data": {
      "text/plain": [
       "2"
      ]
     },
     "execution_count": 52,
     "metadata": {},
     "output_type": "execute_result"
    }
   ],
   "source": [
    "import json\n",
    "import requests\n",
    "import numpy as np\n",
    "import pandas as pd\n",
    "from bs4 import BeautifulSoup\n",
    "\n",
    "link = pd.read_csv('cricket.csv')['link'].values[0]\n",
    "\n",
    "soup = BeautifulSoup(requests.get(link).content,'lxml')"
   ]
  },
  {
   "cell_type": "markdown",
   "id": "35744057",
   "metadata": {},
   "source": [
    "### 1.Scraping the Column Data"
   ]
  },
  {
   "cell_type": "code",
   "execution_count": 22,
   "id": "a1a7ee9c",
   "metadata": {},
   "outputs": [],
   "source": [
    "batt_col = [[i.text,i.get('title')] for i in soup.find_all('table')[0].find_all('th')][1:]\n",
    "ball_col = [[i.text,i.get('title')] for i in soup.find_all('table')[1].find_all('th')][1:]"
   ]
  },
  {
   "cell_type": "markdown",
   "id": "4639b73e",
   "metadata": {},
   "source": [
    "### 2. Adding Documentation to each Column"
   ]
  },
  {
   "cell_type": "code",
   "execution_count": 43,
   "id": "21561326",
   "metadata": {},
   "outputs": [],
   "source": [
    "dct = {}\n",
    "\n",
    "for i in batt_col:\n",
    "    for j in ['Test','ODI','T20I','IPL']:        \n",
    "        key = 'BT_' + j + '_' + i[0]\n",
    "        value = j + ' ' + i[1] + ' ' + 'as a battsman'\n",
    "        dct[key] = value\n",
    "        \n",
    "        \n",
    "for i in ball_col:\n",
    "    for j in ['Test','ODI','T20I','IPL']:        \n",
    "        key = 'BT_' + j + '_' + i[0]\n",
    "        value = j + ' ' + i[1] + ' ' + 'as a baller'\n",
    "        dct[key] = value\n"
   ]
  },
  {
   "cell_type": "markdown",
   "id": "1b50fd64",
   "metadata": {},
   "source": [
    "### 3. Saving Columns Manually"
   ]
  },
  {
   "cell_type": "code",
   "execution_count": 49,
   "id": "c97dd10e",
   "metadata": {},
   "outputs": [],
   "source": [
    "for i in  ['name','team',\n",
    "        'date_of_birth','palce_of_birth',\n",
    "        'role',    'height',\n",
    "        'test_bat_rank','odi_bat_rank','t20_bat_rank',\n",
    "        'test_bow_rank','odi_bow_rank',\n",
    "        't20_bow_rank','link', 'bat_path','bow_path']:\n",
    "\n",
    "    dct[i] = i + ' of the player'"
   ]
  },
  {
   "cell_type": "markdown",
   "id": "5cf6e857",
   "metadata": {},
   "source": [
    "### 4. Saving it as a JSON"
   ]
  },
  {
   "cell_type": "code",
   "execution_count": 57,
   "id": "3a74c053",
   "metadata": {},
   "outputs": [],
   "source": [
    "fd = open('columns.json','w')\n",
    "fd.write(json.dumps(dct))\n",
    "fd.close()"
   ]
  },
  {
   "cell_type": "code",
   "execution_count": null,
   "id": "e1ac6e0f",
   "metadata": {},
   "outputs": [],
   "source": []
  }
 ],
 "metadata": {
  "kernelspec": {
   "display_name": "Python 3 (ipykernel)",
   "language": "python",
   "name": "python3"
  },
  "language_info": {
   "codemirror_mode": {
    "name": "ipython",
    "version": 3
   },
   "file_extension": ".py",
   "mimetype": "text/x-python",
   "name": "python",
   "nbconvert_exporter": "python",
   "pygments_lexer": "ipython3",
   "version": "3.9.7"
  }
 },
 "nbformat": 4,
 "nbformat_minor": 5
}
