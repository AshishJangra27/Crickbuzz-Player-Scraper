{
 "cells": [
  {
   "cell_type": "code",
   "execution_count": 122,
   "id": "d2ab0630",
   "metadata": {
    "scrolled": true
   },
   "outputs": [
    {
     "data": {
      "text/html": [
       "<div>\n",
       "<style scoped>\n",
       "    .dataframe tbody tr th:only-of-type {\n",
       "        vertical-align: middle;\n",
       "    }\n",
       "\n",
       "    .dataframe tbody tr th {\n",
       "        vertical-align: top;\n",
       "    }\n",
       "\n",
       "    .dataframe thead th {\n",
       "        text-align: right;\n",
       "    }\n",
       "</style>\n",
       "<table border=\"1\" class=\"dataframe\">\n",
       "  <thead>\n",
       "    <tr style=\"text-align: right;\">\n",
       "      <th></th>\n",
       "      <th>name</th>\n",
       "      <th>team</th>\n",
       "      <th>date_of_birth</th>\n",
       "      <th>palce_of_birth</th>\n",
       "      <th>role</th>\n",
       "      <th>height</th>\n",
       "      <th>test_bat_rank</th>\n",
       "      <th>odi_bat_rank</th>\n",
       "      <th>t20_bat_rank</th>\n",
       "      <th>test_bow_rank</th>\n",
       "      <th>...</th>\n",
       "      <th>BW_IPL_B</th>\n",
       "      <th>BW_IPL_Runs</th>\n",
       "      <th>BW_IPL_Wkts</th>\n",
       "      <th>BW_IPL_BBI</th>\n",
       "      <th>BW_IPL_BBM</th>\n",
       "      <th>BW_IPL_Econ</th>\n",
       "      <th>BW_IPL_Avg</th>\n",
       "      <th>BW_IPL_SR</th>\n",
       "      <th>BW_IPL_5W</th>\n",
       "      <th>BW_IPL_10W</th>\n",
       "    </tr>\n",
       "  </thead>\n",
       "  <tbody>\n",
       "    <tr>\n",
       "      <th>0</th>\n",
       "      <td>Sachin Tendulkar</td>\n",
       "      <td>India</td>\n",
       "      <td>Apr 24, 1973 (49 years)</td>\n",
       "      <td>Bombay (now Mumbai), Maharashtra</td>\n",
       "      <td>Batsman</td>\n",
       "      <td>5 ft 5 in</td>\n",
       "      <td>--</td>\n",
       "      <td>--</td>\n",
       "      <td>--</td>\n",
       "      <td>--</td>\n",
       "      <td>...</td>\n",
       "      <td>36</td>\n",
       "      <td>58</td>\n",
       "      <td>0</td>\n",
       "      <td>0/7</td>\n",
       "      <td>0/7</td>\n",
       "      <td>9.67</td>\n",
       "      <td>0.0</td>\n",
       "      <td>0.0</td>\n",
       "      <td>0</td>\n",
       "      <td>0</td>\n",
       "    </tr>\n",
       "    <tr>\n",
       "      <th>1</th>\n",
       "      <td>Virender Sehwag</td>\n",
       "      <td>India</td>\n",
       "      <td>Oct 20, 1978 (44 years)</td>\n",
       "      <td>Delhi</td>\n",
       "      <td>Batsman</td>\n",
       "      <td>5 ft 8 in (173 cm)</td>\n",
       "      <td>--</td>\n",
       "      <td>--</td>\n",
       "      <td>--</td>\n",
       "      <td>--</td>\n",
       "      <td>...</td>\n",
       "      <td>136</td>\n",
       "      <td>235</td>\n",
       "      <td>6</td>\n",
       "      <td>2/18</td>\n",
       "      <td>2/18</td>\n",
       "      <td>10.37</td>\n",
       "      <td>39.17</td>\n",
       "      <td>22.67</td>\n",
       "      <td>0</td>\n",
       "      <td>0</td>\n",
       "    </tr>\n",
       "    <tr>\n",
       "      <th>2</th>\n",
       "      <td>Rahul Dravid</td>\n",
       "      <td>India</td>\n",
       "      <td>Jan 11, 1973 (49 years)</td>\n",
       "      <td>Indore, Madhya Pradesh</td>\n",
       "      <td>Batsman</td>\n",
       "      <td>--</td>\n",
       "      <td>--</td>\n",
       "      <td>--</td>\n",
       "      <td>--</td>\n",
       "      <td>--</td>\n",
       "      <td>...</td>\n",
       "      <td>-</td>\n",
       "      <td>-</td>\n",
       "      <td>-</td>\n",
       "      <td>-</td>\n",
       "      <td>-</td>\n",
       "      <td>-</td>\n",
       "      <td>-</td>\n",
       "      <td>-</td>\n",
       "      <td>-</td>\n",
       "      <td>-</td>\n",
       "    </tr>\n",
       "    <tr>\n",
       "      <th>3</th>\n",
       "      <td>VVS Laxman</td>\n",
       "      <td>India</td>\n",
       "      <td>Nov 01, 1974 (48 years)</td>\n",
       "      <td>Hyderabad, Andhra Pradesh</td>\n",
       "      <td>--</td>\n",
       "      <td>--</td>\n",
       "      <td>--</td>\n",
       "      <td>--</td>\n",
       "      <td>--</td>\n",
       "      <td>--</td>\n",
       "      <td>...</td>\n",
       "      <td>-</td>\n",
       "      <td>-</td>\n",
       "      <td>-</td>\n",
       "      <td>-</td>\n",
       "      <td>-</td>\n",
       "      <td>-</td>\n",
       "      <td>-</td>\n",
       "      <td>-</td>\n",
       "      <td>-</td>\n",
       "      <td>-</td>\n",
       "    </tr>\n",
       "    <tr>\n",
       "      <th>4</th>\n",
       "      <td>Sourav Ganguly</td>\n",
       "      <td>India</td>\n",
       "      <td>Jul 08, 1972 (50 years)</td>\n",
       "      <td>Calcutta (now Kolkata), Bengal</td>\n",
       "      <td>Batsman</td>\n",
       "      <td>5 ft 11 in</td>\n",
       "      <td>--</td>\n",
       "      <td>--</td>\n",
       "      <td>--</td>\n",
       "      <td>--</td>\n",
       "      <td>...</td>\n",
       "      <td>276</td>\n",
       "      <td>363</td>\n",
       "      <td>10</td>\n",
       "      <td>2/21</td>\n",
       "      <td>2/21</td>\n",
       "      <td>7.89</td>\n",
       "      <td>36.3</td>\n",
       "      <td>27.6</td>\n",
       "      <td>0</td>\n",
       "      <td>0</td>\n",
       "    </tr>\n",
       "  </tbody>\n",
       "</table>\n",
       "<p>5 rows × 115 columns</p>\n",
       "</div>"
      ],
      "text/plain": [
       "               name   team            date_of_birth  \\\n",
       "0  Sachin Tendulkar  India  Apr 24, 1973 (49 years)   \n",
       "1   Virender Sehwag  India  Oct 20, 1978 (44 years)   \n",
       "2      Rahul Dravid  India  Jan 11, 1973 (49 years)   \n",
       "3        VVS Laxman  India  Nov 01, 1974 (48 years)   \n",
       "4    Sourav Ganguly  India  Jul 08, 1972 (50 years)   \n",
       "\n",
       "                     palce_of_birth     role              height  \\\n",
       "0  Bombay (now Mumbai), Maharashtra  Batsman           5 ft 5 in   \n",
       "1                             Delhi  Batsman  5 ft 8 in (173 cm)   \n",
       "2            Indore, Madhya Pradesh  Batsman                  --   \n",
       "3         Hyderabad, Andhra Pradesh       --                  --   \n",
       "4    Calcutta (now Kolkata), Bengal  Batsman          5 ft 11 in   \n",
       "\n",
       "  test_bat_rank odi_bat_rank t20_bat_rank test_bow_rank  ... BW_IPL_B  \\\n",
       "0            --           --           --            --  ...       36   \n",
       "1            --           --           --            --  ...      136   \n",
       "2            --           --           --            --  ...        -   \n",
       "3            --           --           --            --  ...        -   \n",
       "4            --           --           --            --  ...      276   \n",
       "\n",
       "  BW_IPL_Runs BW_IPL_Wkts BW_IPL_BBI BW_IPL_BBM BW_IPL_Econ BW_IPL_Avg  \\\n",
       "0          58           0        0/7        0/7        9.67        0.0   \n",
       "1         235           6       2/18       2/18       10.37      39.17   \n",
       "2           -           -          -          -           -          -   \n",
       "3           -           -          -          -           -          -   \n",
       "4         363          10       2/21       2/21        7.89       36.3   \n",
       "\n",
       "  BW_IPL_SR BW_IPL_5W BW_IPL_10W  \n",
       "0       0.0         0          0  \n",
       "1     22.67         0          0  \n",
       "2         -         -          -  \n",
       "3         -         -          -  \n",
       "4      27.6         0          0  \n",
       "\n",
       "[5 rows x 115 columns]"
      ]
     },
     "execution_count": 122,
     "metadata": {},
     "output_type": "execute_result"
    }
   ],
   "source": [
    "import pandas as pd\n",
    "\n",
    "df = pd.read_csv('players_big.csv')\n",
    "df.head()"
   ]
  },
  {
   "cell_type": "markdown",
   "id": "71965d72",
   "metadata": {},
   "source": [
    "### 1. How many teams of data we're having?"
   ]
  },
  {
   "cell_type": "code",
   "execution_count": 123,
   "id": "38452114",
   "metadata": {
    "scrolled": true
   },
   "outputs": [
    {
     "data": {
      "text/plain": [
       "75"
      ]
     },
     "execution_count": 123,
     "metadata": {},
     "output_type": "execute_result"
    }
   ],
   "source": [
    "df['team'].nunique()"
   ]
  },
  {
   "cell_type": "markdown",
   "id": "c55cf963",
   "metadata": {},
   "source": [
    "### 2. Which team has the least number of players?"
   ]
  },
  {
   "cell_type": "code",
   "execution_count": 183,
   "id": "75928d5a",
   "metadata": {},
   "outputs": [
    {
     "data": {
      "text/plain": [
       "team\n",
       "Japan           1\n",
       "Fiji            5\n",
       "Bahamas        12\n",
       "Cyprus         12\n",
       "Isle of Man    12\n",
       "dtype: int64"
      ]
     },
     "execution_count": 183,
     "metadata": {},
     "output_type": "execute_result"
    }
   ],
   "source": [
    "df.groupby('team').size().sort_values().head()"
   ]
  },
  {
   "cell_type": "markdown",
   "id": "7c4ecbcc",
   "metadata": {},
   "source": [
    "### 3. Which team has the most number of players?"
   ]
  },
  {
   "cell_type": "code",
   "execution_count": 184,
   "id": "066819c0",
   "metadata": {},
   "outputs": [
    {
     "data": {
      "text/plain": [
       "team\n",
       "England         756\n",
       "India           615\n",
       "Australia       534\n",
       "South Africa    414\n",
       "West Indies     386\n",
       "dtype: int64"
      ]
     },
     "execution_count": 184,
     "metadata": {},
     "output_type": "execute_result"
    }
   ],
   "source": [
    "df.groupby('team').size().sort_values(ascending = False).head()"
   ]
  },
  {
   "cell_type": "markdown",
   "id": "8015112a",
   "metadata": {},
   "source": [
    "### 4. How many players are there from team India?"
   ]
  },
  {
   "cell_type": "code",
   "execution_count": 126,
   "id": "8f60d318",
   "metadata": {},
   "outputs": [
    {
     "data": {
      "text/plain": [
       "615"
      ]
     },
     "execution_count": 126,
     "metadata": {},
     "output_type": "execute_result"
    }
   ],
   "source": [
    "len(df[df['team'] == 'India'])"
   ]
  },
  {
   "cell_type": "markdown",
   "id": "e663159e",
   "metadata": {},
   "source": [
    "### 5. Oldest player in the history of Indian Cricket"
   ]
  },
  {
   "cell_type": "code",
   "execution_count": 152,
   "id": "cf8c9f7b",
   "metadata": {},
   "outputs": [
    {
     "data": {
      "text/html": [
       "<div>\n",
       "<style scoped>\n",
       "    .dataframe tbody tr th:only-of-type {\n",
       "        vertical-align: middle;\n",
       "    }\n",
       "\n",
       "    .dataframe tbody tr th {\n",
       "        vertical-align: top;\n",
       "    }\n",
       "\n",
       "    .dataframe thead th {\n",
       "        text-align: right;\n",
       "    }\n",
       "</style>\n",
       "<table border=\"1\" class=\"dataframe\">\n",
       "  <thead>\n",
       "    <tr style=\"text-align: right;\">\n",
       "      <th></th>\n",
       "      <th>name</th>\n",
       "      <th>birth_year</th>\n",
       "    </tr>\n",
       "  </thead>\n",
       "  <tbody>\n",
       "    <tr>\n",
       "      <th>2682</th>\n",
       "      <td>Rustomji Jamshedji</td>\n",
       "      <td>1892</td>\n",
       "    </tr>\n",
       "    <tr>\n",
       "      <th>2675</th>\n",
       "      <td>C.K.Nayudu</td>\n",
       "      <td>1895</td>\n",
       "    </tr>\n",
       "    <tr>\n",
       "      <th>3544</th>\n",
       "      <td>Cotar Ramaswami</td>\n",
       "      <td>1896</td>\n",
       "    </tr>\n",
       "    <tr>\n",
       "      <th>2684</th>\n",
       "      <td>Ladha Ramji</td>\n",
       "      <td>1900</td>\n",
       "    </tr>\n",
       "    <tr>\n",
       "      <th>2670</th>\n",
       "      <td>Sorabji Colah</td>\n",
       "      <td>1902</td>\n",
       "    </tr>\n",
       "  </tbody>\n",
       "</table>\n",
       "</div>"
      ],
      "text/plain": [
       "                    name  birth_year\n",
       "2682  Rustomji Jamshedji        1892\n",
       "2675          C.K.Nayudu        1895\n",
       "3544     Cotar Ramaswami        1896\n",
       "2684         Ladha Ramji        1900\n",
       "2670       Sorabji Colah        1902"
      ]
     },
     "execution_count": 152,
     "metadata": {},
     "output_type": "execute_result"
    }
   ],
   "source": [
    "df_pr = df[df['team'] == 'India']\n",
    "\n",
    "birth_year  = []\n",
    "\n",
    "for _ in df_pr['date_of_birth']:\n",
    "    birth_year.append(int(_.split(' ')[2]))\n",
    "    \n",
    "df_pr_ = pd.DataFrame(df_pr['name'], columns = ['name'])\n",
    "df_pr_['birth_year'] = birth_year\n",
    "df_pr_.sort_values(by = 'birth_year').head()"
   ]
  },
  {
   "cell_type": "markdown",
   "id": "b5a1ea47",
   "metadata": {},
   "source": [
    "### 6. Oldest player in the history of Cricket"
   ]
  },
  {
   "cell_type": "code",
   "execution_count": 151,
   "id": "238699ea",
   "metadata": {},
   "outputs": [
    {
     "data": {
      "text/html": [
       "<div>\n",
       "<style scoped>\n",
       "    .dataframe tbody tr th:only-of-type {\n",
       "        vertical-align: middle;\n",
       "    }\n",
       "\n",
       "    .dataframe tbody tr th {\n",
       "        vertical-align: top;\n",
       "    }\n",
       "\n",
       "    .dataframe thead th {\n",
       "        text-align: right;\n",
       "    }\n",
       "</style>\n",
       "<table border=\"1\" class=\"dataframe\">\n",
       "  <thead>\n",
       "    <tr style=\"text-align: right;\">\n",
       "      <th></th>\n",
       "      <th>name</th>\n",
       "      <th>birth_year</th>\n",
       "    </tr>\n",
       "  </thead>\n",
       "  <tbody>\n",
       "    <tr>\n",
       "      <th>2045</th>\n",
       "      <td>James Southerton</td>\n",
       "      <td>1827</td>\n",
       "    </tr>\n",
       "    <tr>\n",
       "      <th>2991</th>\n",
       "      <td>Nat Thomson</td>\n",
       "      <td>1839</td>\n",
       "    </tr>\n",
       "    <tr>\n",
       "      <th>2987</th>\n",
       "      <td>Ned Gregory</td>\n",
       "      <td>1839</td>\n",
       "    </tr>\n",
       "    <tr>\n",
       "      <th>2041</th>\n",
       "      <td>Harry Jupp</td>\n",
       "      <td>1841</td>\n",
       "    </tr>\n",
       "    <tr>\n",
       "      <th>2038</th>\n",
       "      <td>Tom Emmett</td>\n",
       "      <td>1841</td>\n",
       "    </tr>\n",
       "  </tbody>\n",
       "</table>\n",
       "</div>"
      ],
      "text/plain": [
       "                  name  birth_year\n",
       "2045  James Southerton        1827\n",
       "2991       Nat Thomson        1839\n",
       "2987       Ned Gregory        1839\n",
       "2041        Harry Jupp        1841\n",
       "2038        Tom Emmett        1841"
      ]
     },
     "execution_count": 151,
     "metadata": {},
     "output_type": "execute_result"
    }
   ],
   "source": [
    "birth_year  = []\n",
    "\n",
    "for _ in df['date_of_birth']:\n",
    "    try:\n",
    "        birth_year.append(int(_.split(' ')[2]))\n",
    "    except:\n",
    "        birth_year.append(2100)\n",
    "    \n",
    "df_pr_ = pd.DataFrame(df['name'], columns = ['name'])\n",
    "df_pr_['birth_year'] = birth_year\n",
    "df_pr_.sort_values(by = 'birth_year').head()"
   ]
  },
  {
   "cell_type": "markdown",
   "id": "ef1b5166",
   "metadata": {},
   "source": [
    "### 7. Which player has played most number of matches as a batsman all together (Test, ODI, T20, IPL)?"
   ]
  },
  {
   "cell_type": "code",
   "execution_count": 149,
   "id": "159311f8",
   "metadata": {
    "scrolled": true
   },
   "outputs": [
    {
     "data": {
      "text/html": [
       "<div>\n",
       "<style scoped>\n",
       "    .dataframe tbody tr th:only-of-type {\n",
       "        vertical-align: middle;\n",
       "    }\n",
       "\n",
       "    .dataframe tbody tr th {\n",
       "        vertical-align: top;\n",
       "    }\n",
       "\n",
       "    .dataframe thead th {\n",
       "        text-align: right;\n",
       "    }\n",
       "</style>\n",
       "<table border=\"1\" class=\"dataframe\">\n",
       "  <thead>\n",
       "    <tr style=\"text-align: right;\">\n",
       "      <th></th>\n",
       "      <th>name</th>\n",
       "      <th>team</th>\n",
       "      <th>date_of_birth</th>\n",
       "      <th>palce_of_birth</th>\n",
       "      <th>role</th>\n",
       "      <th>height</th>\n",
       "      <th>test_bat_rank</th>\n",
       "      <th>odi_bat_rank</th>\n",
       "      <th>t20_bat_rank</th>\n",
       "      <th>test_bow_rank</th>\n",
       "      <th>...</th>\n",
       "      <th>BW_IPL_Runs</th>\n",
       "      <th>BW_IPL_Wkts</th>\n",
       "      <th>BW_IPL_BBI</th>\n",
       "      <th>BW_IPL_BBM</th>\n",
       "      <th>BW_IPL_Econ</th>\n",
       "      <th>BW_IPL_Avg</th>\n",
       "      <th>BW_IPL_SR</th>\n",
       "      <th>BW_IPL_5W</th>\n",
       "      <th>BW_IPL_10W</th>\n",
       "      <th>matched_played</th>\n",
       "    </tr>\n",
       "  </thead>\n",
       "  <tbody>\n",
       "    <tr>\n",
       "      <th>143</th>\n",
       "      <td>MS Dhoni</td>\n",
       "      <td>India</td>\n",
       "      <td>Jul 07, 1981 (41 years)</td>\n",
       "      <td>Ranchi, Bihar (now Jharkhand)</td>\n",
       "      <td>WK-Batsman</td>\n",
       "      <td>5 ft 11 in (180 cm)</td>\n",
       "      <td>--</td>\n",
       "      <td>--</td>\n",
       "      <td>--</td>\n",
       "      <td>--</td>\n",
       "      <td>...</td>\n",
       "      <td>-</td>\n",
       "      <td>-</td>\n",
       "      <td>-</td>\n",
       "      <td>-</td>\n",
       "      <td>-</td>\n",
       "      <td>-</td>\n",
       "      <td>-</td>\n",
       "      <td>-</td>\n",
       "      <td>-</td>\n",
       "      <td>772</td>\n",
       "    </tr>\n",
       "    <tr>\n",
       "      <th>0</th>\n",
       "      <td>Sachin Tendulkar</td>\n",
       "      <td>India</td>\n",
       "      <td>Apr 24, 1973 (49 years)</td>\n",
       "      <td>Bombay (now Mumbai), Maharashtra</td>\n",
       "      <td>Batsman</td>\n",
       "      <td>5 ft 5 in</td>\n",
       "      <td>--</td>\n",
       "      <td>--</td>\n",
       "      <td>--</td>\n",
       "      <td>--</td>\n",
       "      <td>...</td>\n",
       "      <td>58</td>\n",
       "      <td>0</td>\n",
       "      <td>0/7</td>\n",
       "      <td>0/7</td>\n",
       "      <td>9.67</td>\n",
       "      <td>0.0</td>\n",
       "      <td>0.0</td>\n",
       "      <td>0</td>\n",
       "      <td>0</td>\n",
       "      <td>742</td>\n",
       "    </tr>\n",
       "    <tr>\n",
       "      <th>46</th>\n",
       "      <td>Mahela Jayawardene</td>\n",
       "      <td>Sri Lanka</td>\n",
       "      <td>May 27, 1977 (45 years)</td>\n",
       "      <td>Colombo</td>\n",
       "      <td>Batsman</td>\n",
       "      <td>--</td>\n",
       "      <td>--</td>\n",
       "      <td>--</td>\n",
       "      <td>--</td>\n",
       "      <td>--</td>\n",
       "      <td>...</td>\n",
       "      <td>-</td>\n",
       "      <td>-</td>\n",
       "      <td>-</td>\n",
       "      <td>-</td>\n",
       "      <td>-</td>\n",
       "      <td>-</td>\n",
       "      <td>-</td>\n",
       "      <td>-</td>\n",
       "      <td>-</td>\n",
       "      <td>732</td>\n",
       "    </tr>\n",
       "    <tr>\n",
       "      <th>558</th>\n",
       "      <td>Virat Kohli</td>\n",
       "      <td>India</td>\n",
       "      <td>Nov 05, 1988 (34 years)</td>\n",
       "      <td>Delhi</td>\n",
       "      <td>Batsman</td>\n",
       "      <td>5 ft 9 in (175 cm)</td>\n",
       "      <td>11</td>\n",
       "      <td>10</td>\n",
       "      <td>13</td>\n",
       "      <td>--</td>\n",
       "      <td>...</td>\n",
       "      <td>368</td>\n",
       "      <td>4</td>\n",
       "      <td>2/25</td>\n",
       "      <td>2/25</td>\n",
       "      <td>8.8</td>\n",
       "      <td>92.0</td>\n",
       "      <td>62.75</td>\n",
       "      <td>0</td>\n",
       "      <td>0</td>\n",
       "      <td>706</td>\n",
       "    </tr>\n",
       "    <tr>\n",
       "      <th>48</th>\n",
       "      <td>Kumar Sangakkara</td>\n",
       "      <td>Sri Lanka</td>\n",
       "      <td>Oct 27, 1977 (45 years)</td>\n",
       "      <td>Matale</td>\n",
       "      <td>Batsman</td>\n",
       "      <td>--</td>\n",
       "      <td>--</td>\n",
       "      <td>--</td>\n",
       "      <td>--</td>\n",
       "      <td>--</td>\n",
       "      <td>...</td>\n",
       "      <td>-</td>\n",
       "      <td>-</td>\n",
       "      <td>-</td>\n",
       "      <td>-</td>\n",
       "      <td>-</td>\n",
       "      <td>-</td>\n",
       "      <td>-</td>\n",
       "      <td>-</td>\n",
       "      <td>-</td>\n",
       "      <td>665</td>\n",
       "    </tr>\n",
       "  </tbody>\n",
       "</table>\n",
       "<p>5 rows × 116 columns</p>\n",
       "</div>"
      ],
      "text/plain": [
       "                   name       team            date_of_birth  \\\n",
       "143            MS Dhoni      India  Jul 07, 1981 (41 years)   \n",
       "0      Sachin Tendulkar      India  Apr 24, 1973 (49 years)   \n",
       "46   Mahela Jayawardene  Sri Lanka  May 27, 1977 (45 years)   \n",
       "558         Virat Kohli      India  Nov 05, 1988 (34 years)   \n",
       "48     Kumar Sangakkara  Sri Lanka  Oct 27, 1977 (45 years)   \n",
       "\n",
       "                       palce_of_birth        role               height  \\\n",
       "143     Ranchi, Bihar (now Jharkhand)  WK-Batsman  5 ft 11 in (180 cm)   \n",
       "0    Bombay (now Mumbai), Maharashtra     Batsman            5 ft 5 in   \n",
       "46                            Colombo     Batsman                   --   \n",
       "558                             Delhi     Batsman   5 ft 9 in (175 cm)   \n",
       "48                             Matale     Batsman                   --   \n",
       "\n",
       "    test_bat_rank odi_bat_rank t20_bat_rank test_bow_rank  ... BW_IPL_Runs  \\\n",
       "143            --           --           --            --  ...           -   \n",
       "0              --           --           --            --  ...          58   \n",
       "46             --           --           --            --  ...           -   \n",
       "558            11           10           13            --  ...         368   \n",
       "48             --           --           --            --  ...           -   \n",
       "\n",
       "    BW_IPL_Wkts BW_IPL_BBI BW_IPL_BBM BW_IPL_Econ BW_IPL_Avg BW_IPL_SR  \\\n",
       "143           -          -          -           -          -         -   \n",
       "0             0        0/7        0/7        9.67        0.0       0.0   \n",
       "46            -          -          -           -          -         -   \n",
       "558           4       2/25       2/25         8.8       92.0     62.75   \n",
       "48            -          -          -           -          -         -   \n",
       "\n",
       "    BW_IPL_5W BW_IPL_10W matched_played  \n",
       "143         -          -            772  \n",
       "0           0          0            742  \n",
       "46          -          -            732  \n",
       "558         0          0            706  \n",
       "48          -          -            665  \n",
       "\n",
       "[5 rows x 116 columns]"
      ]
     },
     "execution_count": 149,
     "metadata": {},
     "output_type": "execute_result"
    }
   ],
   "source": [
    "def get_matches(i):\n",
    "    \n",
    "    s = 0\n",
    "    for _ in i.split(' '):\n",
    "        if _ != '-':\n",
    "            s += int(_)\n",
    "    return s\n",
    "\n",
    "df['matched_played'] = df['BT_Test_M']  + ' ' +  df['BT_IPL_M']  + ' ' + df['BT_ODI_M']  + ' ' +  df['BT_T20I_M']\n",
    "\n",
    "total_matches = []\n",
    "\n",
    "for i in df['matched_played']:\n",
    "    total_matches.append(get_matches(i))\n",
    "    \n",
    "df['matched_played'] = total_matches\n",
    "\n",
    "df.sort_values(by = 'matched_played', ascending = False).head()"
   ]
  },
  {
   "cell_type": "markdown",
   "id": "fa4cba5f",
   "metadata": {},
   "source": [
    "### 8. Which team's players has scored most number of runs in Test (as batsman)? "
   ]
  },
  {
   "cell_type": "code",
   "execution_count": 173,
   "id": "7c82606f",
   "metadata": {},
   "outputs": [
    {
     "name": "stderr",
     "output_type": "stream",
     "text": [
      "/var/folders/rq/lwddjvtn5n9gjw05hwrg3hp80000gp/T/ipykernel_8277/3614852922.py:3: SettingWithCopyWarning: \n",
      "A value is trying to be set on a copy of a slice from a DataFrame.\n",
      "Try using .loc[row_indexer,col_indexer] = value instead\n",
      "\n",
      "See the caveats in the documentation: https://pandas.pydata.org/pandas-docs/stable/user_guide/indexing.html#returning-a-view-versus-a-copy\n",
      "  df_pr['BT_Test_Runs'] = [int(i) for i in df_pr['BT_Test_Runs'].values]\n"
     ]
    },
    {
     "data": {
      "text/plain": [
       "team\n",
       "England         486145\n",
       "Australia       418457\n",
       "India           268186\n",
       "West Indies     262199\n",
       "South Africa    211013\n",
       "Name: BT_Test_Runs, dtype: int64"
      ]
     },
     "execution_count": 173,
     "metadata": {},
     "output_type": "execute_result"
    }
   ],
   "source": [
    "df_pr = df[df['BT_Test_Runs'] != '-']\n",
    "\n",
    "df_pr['BT_Test_Runs'] = [int(i) for i in df_pr['BT_Test_Runs'].values]\n",
    "\n",
    "df_pr.groupby('team')['BT_Test_Runs'].sum().sort_values(ascending = False).head()"
   ]
  },
  {
   "cell_type": "markdown",
   "id": "06699835",
   "metadata": {},
   "source": [
    "### 9. Which team's players has scored most number of runs in ODI (as batsman)?"
   ]
  },
  {
   "cell_type": "code",
   "execution_count": 175,
   "id": "b4e9a366",
   "metadata": {},
   "outputs": [
    {
     "name": "stderr",
     "output_type": "stream",
     "text": [
      "/var/folders/rq/lwddjvtn5n9gjw05hwrg3hp80000gp/T/ipykernel_8277/318532769.py:3: SettingWithCopyWarning: \n",
      "A value is trying to be set on a copy of a slice from a DataFrame.\n",
      "Try using .loc[row_indexer,col_indexer] = value instead\n",
      "\n",
      "See the caveats in the documentation: https://pandas.pydata.org/pandas-docs/stable/user_guide/indexing.html#returning-a-view-versus-a-copy\n",
      "  df_pr['BT_ODI_Runs'] = [int(i) for i in df_pr['BT_ODI_Runs'].values]\n"
     ]
    },
    {
     "data": {
      "text/plain": [
       "team\n",
       "India        215430\n",
       "Australia    209809\n",
       "Pakistan     193856\n",
       "Sri Lanka    174753\n",
       "England      160135\n",
       "Name: BT_ODI_Runs, dtype: int64"
      ]
     },
     "execution_count": 175,
     "metadata": {},
     "output_type": "execute_result"
    }
   ],
   "source": [
    "df_pr = df[df['BT_ODI_Runs'] != '-']\n",
    "\n",
    "df_pr['BT_ODI_Runs'] = [int(i) for i in df_pr['BT_ODI_Runs'].values]\n",
    "\n",
    "df_pr.groupby('team')['BT_ODI_Runs'].sum().sort_values(ascending = False).head()"
   ]
  },
  {
   "cell_type": "markdown",
   "id": "daf952f1",
   "metadata": {},
   "source": [
    "### 10. Which role is having most number of players through the dataset?"
   ]
  },
  {
   "cell_type": "code",
   "execution_count": 182,
   "id": "95671b02",
   "metadata": {},
   "outputs": [
    {
     "data": {
      "text/plain": [
       "role\n",
       "--                    1558\n",
       "Bowler                1116\n",
       "Batsman                809\n",
       "Batting Allrounder     460\n",
       "WK-Batsman             353\n",
       "dtype: int64"
      ]
     },
     "execution_count": 182,
     "metadata": {},
     "output_type": "execute_result"
    }
   ],
   "source": [
    "df.groupby('role').size().sort_values(ascending = False).head()"
   ]
  }
 ],
 "metadata": {
  "kernelspec": {
   "display_name": "Python 3 (ipykernel)",
   "language": "python",
   "name": "python3"
  },
  "language_info": {
   "codemirror_mode": {
    "name": "ipython",
    "version": 3
   },
   "file_extension": ".py",
   "mimetype": "text/x-python",
   "name": "python",
   "nbconvert_exporter": "python",
   "pygments_lexer": "ipython3",
   "version": "3.9.7"
  }
 },
 "nbformat": 4,
 "nbformat_minor": 5
}
